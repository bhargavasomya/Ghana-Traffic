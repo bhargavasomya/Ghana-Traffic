{
 "cells": [
  {
   "cell_type": "markdown",
   "metadata": {},
   "source": [
    "# Parsing the Causal Biological Network Database\n",
    "\n",
    "**Author:** [Charles Tapley Hoyt](https://github.com/cthoyt/)\n",
    "\n",
    "**Estimated Run Time:** 1 minute\n",
    "\n",
    "This notebook outlines the process of parsing the JSON Graph File format used in the Causal Biological Network (CBN) Database. "
   ]
  },
  {
   "cell_type": "code",
   "execution_count": 1,
   "metadata": {},
   "outputs": [],
   "source": [
    "import json\n",
    "import requests\n",
    "import os\n",
    "import time\n",
    "\n",
    "import networkx as nx\n",
    "\n",
    "import pybel\n",
    "from pybel.constants import *\n",
    "import pybel_tools\n",
    "from pybel.io.jupyter import to_jupyter\n",
    "# from pybel_tools.visualization import to_jupyter"
   ]
  },
  {
   "cell_type": "code",
   "execution_count": 2,
   "metadata": {},
   "outputs": [
    {
     "data": {
      "text/plain": [
       "<module 'pybel.version' from '/home/somya/miniconda3/lib/python3.7/site-packages/pybel/version.py'>"
      ]
     },
     "execution_count": 2,
     "metadata": {},
     "output_type": "execute_result"
    }
   ],
   "source": [
    "pybel.version"
   ]
  },
  {
   "cell_type": "code",
   "execution_count": 3,
   "metadata": {},
   "outputs": [
    {
     "data": {
      "text/plain": [
       "<module 'pybel_tools.version' from '/home/somya/miniconda3/lib/python3.7/site-packages/pybel_tools/version.py'>"
      ]
     },
     "execution_count": 3,
     "metadata": {},
     "output_type": "execute_result"
    }
   ],
   "source": [
    "pybel_tools.version"
   ]
  },
  {
   "cell_type": "code",
   "execution_count": 4,
   "metadata": {},
   "outputs": [
    {
     "data": {
      "text/plain": [
       "'Wed Apr  8 13:06:22 2020'"
      ]
     },
     "execution_count": 4,
     "metadata": {},
     "output_type": "execute_result"
    }
   ],
   "source": [
    "time.asctime()"
   ]
  },
  {
   "cell_type": "markdown",
   "metadata": {},
   "source": [
    "## Data Acquisition\n",
    "\n",
    "Data can be downloaded directly from the `GetJSONGraphFile` endpoint, and are returned in the response as JSON."
   ]
  },
  {
   "cell_type": "code",
   "execution_count": 5,
   "metadata": {},
   "outputs": [],
   "source": [
    "# res = requests.get(\"http://causalbionet.com/Networks/GetJSONGraphFile?networkId=hox_2.0_hs\").json()\n",
    "f = open('COVID19.jgf')\n",
    "covid_dict = json.load(f)"
   ]
  },
  {
   "cell_type": "markdown",
   "metadata": {},
   "source": [
    "## Parsing\n",
    "\n",
    "The structure is traversed, and the [BELParser](http://pybel.readthedocs.io/en/latest/parser.html#pybel.parser.parse_bel.BelParser) is manipulated directly. Normally, during BEL compilation, the usage of this class is hidden from the user."
   ]
  },
  {
   "cell_type": "code",
   "execution_count": 10,
   "metadata": {},
   "outputs": [],
   "source": [
    "graph = pybel.BELGraph()\n",
    "parser = pybel.parser.BELParser(graph)\n",
    "#parser = pybel.parser.BelParser(graph)"
   ]
  },
  {
   "cell_type": "code",
   "execution_count": 11,
   "metadata": {},
   "outputs": [],
   "source": [
    "def get_citation(evidence):\n",
    "    return {\n",
    "        CITATION_NAME: evidence['citation']['name'],\n",
    "        CITATION_TYPE: evidence['citation']['type'],\n",
    "        CITATION_REFERENCE: evidence['citation']['id']\n",
    "    }"
   ]
  },
  {
   "cell_type": "code",
   "execution_count": 12,
   "metadata": {},
   "outputs": [],
   "source": [
    "annotation_map = {\n",
    "    'tissue': 'Tissue',\n",
    "    'disease': 'Disease',\n",
    "    'species_common_name': 'Species'\n",
    "}"
   ]
  },
  {
   "cell_type": "code",
   "execution_count": 13,
   "metadata": {},
   "outputs": [],
   "source": [
    "species_map = {\n",
    "    'human': '9606',\n",
    "    'rat': '10116',\n",
    "    'mouse': '10090'\n",
    "}"
   ]
  },
  {
   "cell_type": "code",
   "execution_count": 14,
   "metadata": {},
   "outputs": [],
   "source": [
    "annotation_value_map = {\n",
    "    'Species': species_map\n",
    "}"
   ]
  },
  {
   "cell_type": "code",
   "execution_count": 16,
   "metadata": {},
   "outputs": [
    {
     "ename": "KeyError",
     "evalue": "'evidences'",
     "output_type": "error",
     "traceback": [
      "\u001b[0;31m---------------------------------------------------------------------------\u001b[0m",
      "\u001b[0;31mKeyError\u001b[0m                                  Traceback (most recent call last)",
      "\u001b[0;32m<ipython-input-16-49fedee6ac4c>\u001b[0m in \u001b[0;36m<module>\u001b[0;34m\u001b[0m\n\u001b[1;32m      1\u001b[0m \u001b[0;32mfor\u001b[0m \u001b[0medge\u001b[0m \u001b[0;32min\u001b[0m \u001b[0mcovid_dict\u001b[0m\u001b[0;34m[\u001b[0m\u001b[0;34m'graph'\u001b[0m\u001b[0;34m]\u001b[0m\u001b[0;34m[\u001b[0m\u001b[0;34m'edges'\u001b[0m\u001b[0;34m]\u001b[0m\u001b[0;34m:\u001b[0m\u001b[0;34m\u001b[0m\u001b[0;34m\u001b[0m\u001b[0m\n\u001b[0;32m----> 2\u001b[0;31m     \u001b[0;32mfor\u001b[0m \u001b[0mevidence\u001b[0m \u001b[0;32min\u001b[0m \u001b[0medge\u001b[0m\u001b[0;34m[\u001b[0m\u001b[0;34m'metadata'\u001b[0m\u001b[0;34m]\u001b[0m\u001b[0;34m[\u001b[0m\u001b[0;34m'evidences'\u001b[0m\u001b[0;34m]\u001b[0m\u001b[0;34m:\u001b[0m\u001b[0;34m\u001b[0m\u001b[0;34m\u001b[0m\u001b[0m\n\u001b[0m\u001b[1;32m      3\u001b[0m         \u001b[0;32mif\u001b[0m \u001b[0;34m'citation'\u001b[0m \u001b[0;32mnot\u001b[0m \u001b[0;32min\u001b[0m \u001b[0mevidence\u001b[0m \u001b[0;32mor\u001b[0m \u001b[0;32mnot\u001b[0m \u001b[0mevidence\u001b[0m\u001b[0;34m[\u001b[0m\u001b[0;34m'citation'\u001b[0m\u001b[0;34m]\u001b[0m\u001b[0;34m:\u001b[0m\u001b[0;34m\u001b[0m\u001b[0;34m\u001b[0m\u001b[0m\n\u001b[1;32m      4\u001b[0m             \u001b[0;32mcontinue\u001b[0m\u001b[0;34m\u001b[0m\u001b[0;34m\u001b[0m\u001b[0m\n\u001b[1;32m      5\u001b[0m \u001b[0;34m\u001b[0m\u001b[0m\n",
      "\u001b[0;31mKeyError\u001b[0m: 'evidences'"
     ]
    }
   ],
   "source": [
    "for edge in covid_dict['graph']['edges']:    \n",
    "    for evidence in edge['metadata']['evidences']:\n",
    "        if 'citation' not in evidence or not evidence['citation']:\n",
    "            continue\n",
    "        \n",
    "        parser.control_parser.clear()\n",
    "        parser.control_parser.citation = get_citation(evidence)\n",
    "        parser.control_parser.evidence = evidence['summary_text'] \n",
    "        \n",
    "        d = {}\n",
    "        \n",
    "        if 'biological_context' in evidence:\n",
    "            annotations = evidence['biological_context']\n",
    "        \n",
    "            if annotations['tissue']:\n",
    "                d['Tissue'] = annotations['tissue']\n",
    "\n",
    "            if annotations['disease']:\n",
    "                d['Disease'] = annotations['disease']\n",
    "\n",
    "            if annotations['species_common_name']:\n",
    "                d['Species'] = species_map[annotations['species_common_name'].lower()]\n",
    "        \n",
    "        parser.control_parser.annotations.update(d)\n",
    "        bel = '{source} {relation} {target}'.format_map(edge)\n",
    "        try:\n",
    "            parser.parseString(bel)\n",
    "        except Exception as e:\n",
    "            print(e, bel)"
   ]
  },
  {
   "cell_type": "markdown",
   "metadata": {},
   "source": [
    "## Visualization\n",
    "\n",
    "Finally, the graph is vizualized in the notebook diretly with `pybel_tools.visualization.to_jupyter`."
   ]
  },
  {
   "cell_type": "code",
   "execution_count": 31,
   "metadata": {},
   "outputs": [
    {
     "data": {
      "application/javascript": [
       "function init_d3_force(d3, graph, chart, width, height, function_colors) {\n",
       "    var focus_node = null;\n",
       "    var highlight_node = null;\n",
       "\n",
       "    // Highlight color variables\n",
       "\n",
       "    // Highlight color of the node boundering\n",
       "    const highlight_node_boundering = \"#4EB2D4\";\n",
       "\n",
       "    // Highlight color of the edge\n",
       "    const highlighted_link_color = \"#4EB2D4\";\n",
       "\n",
       "    // Text highlight color\n",
       "    const highlight_text = \"#4EB2D4\";\n",
       "\n",
       "    // Size when zooming scale\n",
       "    var size = d3.scalePow().exponent(1)\n",
       "        .domain([1, 100])\n",
       "        .range([8, 24]);\n",
       "\n",
       "    // Simulation parameters\n",
       "    const linkDistance = 100;\n",
       "    const fCharge = -1000;\n",
       "    const linkStrength = 0.7;\n",
       "    const collideStrength = 1;\n",
       "\n",
       "    // Simulation defined with variables\n",
       "    var simulation = d3.forceSimulation()\n",
       "        .force(\"link\", d3.forceLink()\n",
       "            .distance(linkDistance)\n",
       "            .strength(linkStrength)\n",
       "        )\n",
       "        .force(\"collide\", d3.forceCollide()\n",
       "            .radius(function (d) {\n",
       "                return d.r + 10\n",
       "            })\n",
       "            .strength(collideStrength)\n",
       "        )\n",
       "        .force(\"charge\", d3.forceManyBody()\n",
       "            .strength(fCharge)\n",
       "        )\n",
       "        .force(\"center\", d3.forceCenter(width / 2, height / 2))\n",
       "        .force(\"y\", d3.forceY(0))\n",
       "        .force(\"x\", d3.forceX(0));\n",
       "\n",
       "    // Pin down functionality\n",
       "    var node_drag = d3.drag()\n",
       "        .on(\"start\", dragstarted)\n",
       "        .on(\"drag\", dragged)\n",
       "        .on(\"end\", dragended);\n",
       "\n",
       "    function dragstarted(d) {\n",
       "        if (!d3.event.active) simulation.alphaTarget(0.3).restart();\n",
       "        d.fx = d.x;\n",
       "        d.fy = d.y;\n",
       "    }\n",
       "\n",
       "    function dragged(d) {\n",
       "        d.fx = d3.event.x;\n",
       "        d.fy = d3.event.y;\n",
       "    }\n",
       "\n",
       "    function dragended(d) {\n",
       "        if (!d3.event.active) simulation.alphaTarget(0);\n",
       "    }\n",
       "\n",
       "    function releasenode(d) {\n",
       "        d.fx = null;\n",
       "        d.fy = null;\n",
       "    }\n",
       "\n",
       "    //END Pin down functionality\n",
       "\n",
       "\n",
       "    /**\n",
       "     * Gets the best name for a node object\n",
       "     * @param {object} d object\n",
       "     * @returns {str} canonical name of the node\n",
       "     */\n",
       "    function getCanonicalName(d) {\n",
       "        if (d.name && !(d.variants || d.reactants || d.products || d.members)) {\n",
       "            return d.name\n",
       "        } else if (d.bel) {\n",
       "            return d.bel\n",
       "        } else {\n",
       "            console.log('Undefined node: ' + d);\n",
       "            return 'UNDEFINED'\n",
       "        }\n",
       "    }\n",
       "\n",
       "    const color_circunferencia = \"black\";\n",
       "    const default_link_color = \"#AAAAAA\";\n",
       "    const nominal_base_node_size = 8;\n",
       "\n",
       "    // Normal and highlighted stroke of the links (double the width of the link when highlighted)\n",
       "    const nominal_stroke = 1.5;\n",
       "\n",
       "    // Zoom variables\n",
       "    const min_zoom = 0.1;\n",
       "    const max_zoom = 10;\n",
       "\n",
       "    var svg = d3.select(chart).append(\"svg\")\n",
       "        .attr(\"width\", width)\n",
       "        .attr(\"height\", height);\n",
       "\n",
       "    // // Create definition for arrowhead.\n",
       "    svg.append(\"defs\").append(\"marker\")\n",
       "        .attr(\"id\", \"arrowhead\")\n",
       "        .attr(\"viewBox\", \"0 -5 10 10\")\n",
       "        .attr(\"refX\", 20)\n",
       "        .attr(\"refY\", 0)\n",
       "        .attr(\"markerUnits\", \"strokeWidth\")\n",
       "        .attr(\"markerWidth\", 6)\n",
       "        .attr(\"markerHeight\", 6)\n",
       "        .attr(\"orient\", \"auto\")\n",
       "        .append(\"path\")\n",
       "        .attr(\"d\", \"M0,-5L10,0L0,5\");\n",
       "\n",
       "    // // Create definition for stub.\n",
       "    svg.append(\"defs\").append(\"marker\")\n",
       "        .attr(\"id\", \"stub\")\n",
       "        .attr(\"viewBox\", \"-1 -5 2 10\")\n",
       "        .attr(\"refX\", 15)\n",
       "        .attr(\"refY\", 0)\n",
       "        .attr(\"markerUnits\", \"strokeWidth\")\n",
       "        .attr(\"markerWidth\", 6)\n",
       "        .attr(\"markerHeight\", 6)\n",
       "        .attr(\"orient\", \"auto\")\n",
       "        .append(\"path\")\n",
       "        .attr(\"d\", \"M 0,0 m -1,-5 L 1,-5 L 1,5 L -1,5 Z\");\n",
       "\n",
       "    // Background\n",
       "    svg.append(\"rect\")\n",
       "        .attr(\"width\", \"100%\")\n",
       "        .attr(\"height\", \"100%\")\n",
       "        .attr(\"fill\", \"#ffffff\")\n",
       "        .style(\"pointer-events\", \"all\")\n",
       "        // Zoom + panning functionality\n",
       "        .call(d3.zoom()\n",
       "            .scaleExtent([min_zoom, max_zoom])\n",
       "            .on(\"zoom\", zoomed))\n",
       "        .on(\"dblclick.zoom\", null);\n",
       "\n",
       "\n",
       "    function zoomed() {\n",
       "        g.attr(\"transform\", d3.event.transform);\n",
       "    }\n",
       "\n",
       "    // g = svg object where the graph will be appended\n",
       "    var g = svg.append(\"g\");\n",
       "\n",
       "    var linkedByIndex = {};\n",
       "    graph.links.forEach(function (d) {\n",
       "        linkedByIndex[d.source + \",\" + d.target] = true;\n",
       "    });\n",
       "\n",
       "    function isConnected(a, b) {\n",
       "        return linkedByIndex[a.index + \",\" + b.index] || linkedByIndex[b.index + \",\" + a.index] || a.index == b.index;\n",
       "    }\n",
       "\n",
       "    function ticked() {\n",
       "        link.attr(\"x1\", function (d) {\n",
       "            return d.source.x;\n",
       "        })\n",
       "            .attr(\"y1\", function (d) {\n",
       "                return d.source.y;\n",
       "            })\n",
       "            .attr(\"x2\", function (d) {\n",
       "                return d.target.x;\n",
       "            })\n",
       "            .attr(\"y2\", function (d) {\n",
       "                return d.target.y;\n",
       "            });\n",
       "\n",
       "        node\n",
       "            .attr(\"transform\", function (d) {\n",
       "                return \"translate(\" + d.x + \", \" + d.y + \")\";\n",
       "            });\n",
       "    }\n",
       "\n",
       "\n",
       "    simulation\n",
       "        .nodes(graph.nodes)\n",
       "        .on(\"tick\", ticked);\n",
       "\n",
       "    simulation.force(\"link\")\n",
       "        .links(graph.links);\n",
       "\n",
       "    // Definition of links nodes text...\n",
       "\n",
       "    var link = g.selectAll(\".link\")\n",
       "        .data(graph.links)\n",
       "        .enter().append(\"line\")\n",
       "        .style(\"stroke-width\", nominal_stroke)\n",
       "        .style(\"stroke\", default_link_color)\n",
       "        .style(\"stroke-dasharray\", function (d) {\n",
       "            if (['decreases', 'directlyDecreases', 'increases', 'directlyIncreases', 'negativeCorrelation',\n",
       "                'positiveCorrelation'].indexOf(d.relation) >= 0) {\n",
       "                return \"none\"\n",
       "            } else {\n",
       "                return \"4, 4\"\n",
       "            }\n",
       "        })\n",
       "        .attr(\"marker-start\", function (d) {\n",
       "            if ('positiveCorrelation' == d.relation) {\n",
       "                return \"url(#arrowhead)\"\n",
       "            }\n",
       "            else if ('negativeCorrelation' == d.relation) {\n",
       "                return \"url(#stub)\"\n",
       "            }\n",
       "            else {\n",
       "                return \"\"\n",
       "            }\n",
       "        })\n",
       "        .attr(\"marker-end\", function (d) {\n",
       "            if (['increases', 'directlyIncreases', 'positiveCorrelation', 'isA', 'partOf'].indexOf(d.relation) >= 0) {\n",
       "                return \"url(#arrowhead)\"\n",
       "            } else if (['decreases', 'directlyDecreases', 'negativeCorrelation'].indexOf(d.relation) >= 0) {\n",
       "                return \"url(#stub)\"\n",
       "            } else {\n",
       "                return \"\"\n",
       "            }\n",
       "        });\n",
       "\n",
       "    var node = g.selectAll(\".nodes\")\n",
       "        .data(graph.nodes)\n",
       "        .enter().append(\"g\")\n",
       "        .attr(\"class\", \"node\")\n",
       "        // Next two lines -> Pin down functionality\n",
       "        .on('dblclick', releasenode)\n",
       "        .call(node_drag);\n",
       "\n",
       "    var circle = node.append(\"path\")\n",
       "        .attr(\"d\", d3.symbol()\n",
       "            .size(function (d) {\n",
       "                return Math.PI * Math.pow(size(d.size) || nominal_base_node_size, 2);\n",
       "            })\n",
       "        )\n",
       "        .attr(\"class\", function (d) {\n",
       "            return d.function\n",
       "        })\n",
       "        .style('fill', function (d) {\n",
       "            return function_colors[d.function]\n",
       "        })\n",
       "        .style(\"stroke-width\", nominal_stroke)\n",
       "        .style(\"stroke\", color_circunferencia);\n",
       "\n",
       "    var text = node.append(\"text\")\n",
       "        .attr(\"class\", \"node-name\")\n",
       "        // .attr(\"id\", nodehashes[d])\n",
       "        .attr(\"fill\", \"black\")\n",
       "        .attr(\"dx\", 12)\n",
       "        .attr(\"dy\", \".35em\")\n",
       "        .text(function (d) {\n",
       "            return getCanonicalName(d)\n",
       "        });\n",
       "\n",
       "    // Highlight on mouseenter and back to normal on mouseout\n",
       "    node.on(\"mouseenter\", function (d) {\n",
       "        set_highlight(d);\n",
       "    })\n",
       "        .on(\"mousedown\", function () {\n",
       "            d3.event.stopPropagation();\n",
       "        }).on(\"mouseout\", function () {\n",
       "        exit_highlight();\n",
       "    });\n",
       "\n",
       "    function exit_highlight() {\n",
       "        highlight_node = null;\n",
       "        if (focus_node === null) {\n",
       "            if (highlight_node_boundering != color_circunferencia) {\n",
       "                circle.style(\"stroke\", color_circunferencia);\n",
       "                text.style(\"fill\", \"black\");\n",
       "                link.style(\"stroke\", default_link_color);\n",
       "            }\n",
       "        }\n",
       "    }\n",
       "\n",
       "    function set_highlight(d) {\n",
       "        if (focus_node !== null) d = focus_node;\n",
       "        highlight_node = d;\n",
       "\n",
       "        if (highlight_node_boundering != color_circunferencia) {\n",
       "            circle.style(\"stroke\", function (o) {\n",
       "                return isConnected(d, o) ? highlight_node_boundering : color_circunferencia;\n",
       "            });\n",
       "            text.style(\"fill\", function (o) {\n",
       "                return isConnected(d, o) ? highlight_text : \"black\";\n",
       "            });\n",
       "            link.style(\"stroke\", function (o) {\n",
       "                return o.source.index == d.index || o.target.index == d.index ? highlighted_link_color : default_link_color;\n",
       "            });\n",
       "        }\n",
       "    }\n",
       "\n",
       "\n",
       "    // Freeze the graph when space is pressed\n",
       "    function freezeGraph() {\n",
       "        // Space button Triggers STOP\n",
       "        if (d3.event.keyCode == 32) {\n",
       "            simulation.stop();\n",
       "        }\n",
       "    }\n",
       "\n",
       "    // Call freezeGraph when a key is pressed, freezeGraph checks whether this key is \"Space\" that triggers the freeze\n",
       "    d3.select(window).on(\"keydown\", freezeGraph);\n",
       "}\n",
       "\n",
       "require.config({\n",
       "    paths: {\n",
       "        d3: '//cdnjs.cloudflare.com/ajax/libs/d3/4.5.0/d3.min'\n",
       "    }\n",
       "});\n",
       "\n",
       "var elementInnerHTML = \"<div id='oabcpeqxgkdzytjh'></div>\";\n",
       "\n",
       "element.append(elementInnerHTML);\n",
       "\n",
       "require(['d3'], function (d3) {\n",
       "    return init_d3_force(d3, {&#34;directed&#34;: true, &#34;multigraph&#34;: true, &#34;graph&#34;: {&#34;pybel_version&#34;: &#34;0.14.5&#34;, &#34;document_metadata&#34;: {}, &#34;namespace_url&#34;: {}, &#34;namespace_pattern&#34;: {}, &#34;annotation_url&#34;: {}, &#34;annotation_pattern&#34;: {}, &#34;annotation_list&#34;: {}}, &#34;nodes&#34;: [], &#34;links&#34;: []}, \"#oabcpeqxgkdzytjh\", 1000, 650, {&#39;Protein&#39;: &#39;#1F77B4&#39;, &#39;Pathology&#39;: &#39;#FF7F0E&#39;, &#39;BiologicalProcess&#39;: &#39;#2CA02C&#39;, &#39;miRNA&#39;: &#39;#D62728&#39;, &#39;Complex&#39;: &#39;#98DF8A&#39;, &#39;Composite&#39;: &#39;#9467BD&#39;, &#39;Reaction&#39;: &#39;#000000&#39;, &#39;Gene&#39;: &#39;#FFBB78&#39;, &#39;Abundance&#39;: &#39;#AEC7E8&#39;, &#39;RNA&#39;: &#39;#FF9896&#39;});\n",
       "});"
      ],
      "text/plain": [
       "<IPython.core.display.Javascript object>"
      ]
     },
     "execution_count": 31,
     "metadata": {},
     "output_type": "execute_result"
    }
   ],
   "source": [
    "to_jupyter(graph)"
   ]
  },
  {
   "cell_type": "code",
   "execution_count": 32,
   "metadata": {},
   "outputs": [
    {
     "ename": "ValueError",
     "evalue": "Can not upload a graph without a name",
     "output_type": "error",
     "traceback": [
      "\u001b[0;31m---------------------------------------------------------------------------\u001b[0m",
      "\u001b[0;31mValueError\u001b[0m                                Traceback (most recent call last)",
      "\u001b[0;32m<ipython-input-32-acdaed0fd85b>\u001b[0m in \u001b[0;36m<module>\u001b[0;34m\u001b[0m\n\u001b[0;32m----> 1\u001b[0;31m \u001b[0mpybel\u001b[0m\u001b[0;34m.\u001b[0m\u001b[0mto_database\u001b[0m\u001b[0;34m(\u001b[0m\u001b[0mgraph\u001b[0m\u001b[0;34m)\u001b[0m\u001b[0;34m\u001b[0m\u001b[0;34m\u001b[0m\u001b[0m\n\u001b[0m",
      "\u001b[0;32m~/miniconda3/lib/python3.7/site-packages/pybel/manager/database_io.py\u001b[0m in \u001b[0;36mto_database\u001b[0;34m(graph, manager, use_tqdm)\u001b[0m\n\u001b[1;32m     39\u001b[0m     \u001b[0;32mexcept\u001b[0m \u001b[0mException\u001b[0m \u001b[0;32mas\u001b[0m \u001b[0me\u001b[0m\u001b[0;34m:\u001b[0m\u001b[0;34m\u001b[0m\u001b[0;34m\u001b[0m\u001b[0m\n\u001b[1;32m     40\u001b[0m         \u001b[0mmanager\u001b[0m\u001b[0;34m.\u001b[0m\u001b[0msession\u001b[0m\u001b[0;34m.\u001b[0m\u001b[0mrollback\u001b[0m\u001b[0;34m(\u001b[0m\u001b[0;34m)\u001b[0m\u001b[0;34m\u001b[0m\u001b[0;34m\u001b[0m\u001b[0m\n\u001b[0;32m---> 41\u001b[0;31m         \u001b[0;32mraise\u001b[0m \u001b[0me\u001b[0m\u001b[0;34m\u001b[0m\u001b[0;34m\u001b[0m\u001b[0m\n\u001b[0m\u001b[1;32m     42\u001b[0m \u001b[0;34m\u001b[0m\u001b[0m\n\u001b[1;32m     43\u001b[0m \u001b[0;34m\u001b[0m\u001b[0m\n",
      "\u001b[0;32m~/miniconda3/lib/python3.7/site-packages/pybel/manager/database_io.py\u001b[0m in \u001b[0;36mto_database\u001b[0;34m(graph, manager, use_tqdm)\u001b[0m\n\u001b[1;32m     33\u001b[0m \u001b[0;34m\u001b[0m\u001b[0m\n\u001b[1;32m     34\u001b[0m     \u001b[0;32mtry\u001b[0m\u001b[0;34m:\u001b[0m\u001b[0;34m\u001b[0m\u001b[0;34m\u001b[0m\u001b[0m\n\u001b[0;32m---> 35\u001b[0;31m         \u001b[0;32mreturn\u001b[0m \u001b[0mmanager\u001b[0m\u001b[0;34m.\u001b[0m\u001b[0minsert_graph\u001b[0m\u001b[0;34m(\u001b[0m\u001b[0mgraph\u001b[0m\u001b[0;34m,\u001b[0m \u001b[0muse_tqdm\u001b[0m\u001b[0;34m=\u001b[0m\u001b[0muse_tqdm\u001b[0m\u001b[0;34m)\u001b[0m\u001b[0;34m\u001b[0m\u001b[0;34m\u001b[0m\u001b[0m\n\u001b[0m\u001b[1;32m     36\u001b[0m     \u001b[0;32mexcept\u001b[0m \u001b[0;34m(\u001b[0m\u001b[0mIntegrityError\u001b[0m\u001b[0;34m,\u001b[0m \u001b[0mOperationalError\u001b[0m\u001b[0;34m)\u001b[0m\u001b[0;34m:\u001b[0m\u001b[0;34m\u001b[0m\u001b[0;34m\u001b[0m\u001b[0m\n\u001b[1;32m     37\u001b[0m         \u001b[0mmanager\u001b[0m\u001b[0;34m.\u001b[0m\u001b[0msession\u001b[0m\u001b[0;34m.\u001b[0m\u001b[0mrollback\u001b[0m\u001b[0;34m(\u001b[0m\u001b[0;34m)\u001b[0m\u001b[0;34m\u001b[0m\u001b[0;34m\u001b[0m\u001b[0m\n",
      "\u001b[0;32m~/miniconda3/lib/python3.7/site-packages/pybel/manager/cache_manager.py\u001b[0m in \u001b[0;36minsert_graph\u001b[0;34m(self, graph, use_tqdm, tqdm_kwargs)\u001b[0m\n\u001b[1;32m    590\u001b[0m         \"\"\"\n\u001b[1;32m    591\u001b[0m         \u001b[0;32mif\u001b[0m \u001b[0;32mnot\u001b[0m \u001b[0mgraph\u001b[0m\u001b[0;34m.\u001b[0m\u001b[0mname\u001b[0m\u001b[0;34m:\u001b[0m\u001b[0;34m\u001b[0m\u001b[0;34m\u001b[0m\u001b[0m\n\u001b[0;32m--> 592\u001b[0;31m             \u001b[0;32mraise\u001b[0m \u001b[0mValueError\u001b[0m\u001b[0;34m(\u001b[0m\u001b[0;34m'Can not upload a graph without a name'\u001b[0m\u001b[0;34m)\u001b[0m\u001b[0;34m\u001b[0m\u001b[0;34m\u001b[0m\u001b[0m\n\u001b[0m\u001b[1;32m    593\u001b[0m \u001b[0;34m\u001b[0m\u001b[0m\n\u001b[1;32m    594\u001b[0m         \u001b[0;32mif\u001b[0m \u001b[0;32mnot\u001b[0m \u001b[0mgraph\u001b[0m\u001b[0;34m.\u001b[0m\u001b[0mversion\u001b[0m\u001b[0;34m:\u001b[0m\u001b[0;34m\u001b[0m\u001b[0;34m\u001b[0m\u001b[0m\n",
      "\u001b[0;31mValueError\u001b[0m: Can not upload a graph without a name"
     ]
    }
   ],
   "source": [
    "pybel.to_database(graph)"
   ]
  },
  {
   "cell_type": "code",
   "execution_count": 33,
   "metadata": {},
   "outputs": [
    {
     "ename": "AttributeError",
     "evalue": "module 'pybel' has no attribute 'get_ver'",
     "output_type": "error",
     "traceback": [
      "\u001b[0;31m---------------------------------------------------------------------------\u001b[0m",
      "\u001b[0;31mAttributeError\u001b[0m                            Traceback (most recent call last)",
      "\u001b[0;32m<ipython-input-33-1f5c1b697505>\u001b[0m in \u001b[0;36m<module>\u001b[0;34m\u001b[0m\n\u001b[0;32m----> 1\u001b[0;31m \u001b[0mpybel\u001b[0m\u001b[0;34m.\u001b[0m\u001b[0mget_ver\u001b[0m\u001b[0;34m\u001b[0m\u001b[0;34m\u001b[0m\u001b[0m\n\u001b[0m",
      "\u001b[0;31mAttributeError\u001b[0m: module 'pybel' has no attribute 'get_ver'"
     ]
    }
   ],
   "source": [
    "pybel.get_ver"
   ]
  },
  {
   "cell_type": "markdown",
   "metadata": {},
   "source": [
    "# Using PyBEL Functions\n",
    "\n",
    "This pipeline is implemented directly in PyBEL at [pybel.from_cbn_jgif]()"
   ]
  },
  {
   "cell_type": "code",
   "execution_count": 34,
   "metadata": {},
   "outputs": [
    {
     "ename": "KeyError",
     "evalue": "'BMS_BASE'",
     "output_type": "error",
     "traceback": [
      "\u001b[0;31m---------------------------------------------------------------------------\u001b[0m",
      "\u001b[0;31mKeyError\u001b[0m                                  Traceback (most recent call last)",
      "\u001b[0;32m<ipython-input-34-57f3d803dd0d>\u001b[0m in \u001b[0;36m<module>\u001b[0;34m\u001b[0m\n\u001b[0;32m----> 1\u001b[0;31m \u001b[0;32mwith\u001b[0m \u001b[0mopen\u001b[0m\u001b[0;34m(\u001b[0m\u001b[0mos\u001b[0m\u001b[0;34m.\u001b[0m\u001b[0mpath\u001b[0m\u001b[0;34m.\u001b[0m\u001b[0mjoin\u001b[0m\u001b[0;34m(\u001b[0m\u001b[0mos\u001b[0m\u001b[0;34m.\u001b[0m\u001b[0menviron\u001b[0m\u001b[0;34m[\u001b[0m\u001b[0;34m'BMS_BASE'\u001b[0m\u001b[0;34m]\u001b[0m\u001b[0;34m,\u001b[0m \u001b[0;34m'cbn'\u001b[0m\u001b[0;34m,\u001b[0m \u001b[0;34m'Human-2.0'\u001b[0m\u001b[0;34m,\u001b[0m \u001b[0;34m'Hox-2.0-Hs.jgf'\u001b[0m\u001b[0;34m)\u001b[0m\u001b[0;34m)\u001b[0m \u001b[0;32mas\u001b[0m \u001b[0mf\u001b[0m\u001b[0;34m:\u001b[0m\u001b[0;34m\u001b[0m\u001b[0;34m\u001b[0m\u001b[0m\n\u001b[0m\u001b[1;32m      2\u001b[0m     \u001b[0mgraph_jgif_dict\u001b[0m \u001b[0;34m=\u001b[0m \u001b[0mjson\u001b[0m\u001b[0;34m.\u001b[0m\u001b[0mload\u001b[0m\u001b[0;34m(\u001b[0m\u001b[0mf\u001b[0m\u001b[0;34m)\u001b[0m\u001b[0;34m\u001b[0m\u001b[0;34m\u001b[0m\u001b[0m\n",
      "\u001b[0;32m~/miniconda3/lib/python3.7/os.py\u001b[0m in \u001b[0;36m__getitem__\u001b[0;34m(self, key)\u001b[0m\n\u001b[1;32m    676\u001b[0m         \u001b[0;32mexcept\u001b[0m \u001b[0mKeyError\u001b[0m\u001b[0;34m:\u001b[0m\u001b[0;34m\u001b[0m\u001b[0;34m\u001b[0m\u001b[0m\n\u001b[1;32m    677\u001b[0m             \u001b[0;31m# raise KeyError with the original key value\u001b[0m\u001b[0;34m\u001b[0m\u001b[0;34m\u001b[0m\u001b[0;34m\u001b[0m\u001b[0m\n\u001b[0;32m--> 678\u001b[0;31m             \u001b[0;32mraise\u001b[0m \u001b[0mKeyError\u001b[0m\u001b[0;34m(\u001b[0m\u001b[0mkey\u001b[0m\u001b[0;34m)\u001b[0m \u001b[0;32mfrom\u001b[0m \u001b[0;32mNone\u001b[0m\u001b[0;34m\u001b[0m\u001b[0;34m\u001b[0m\u001b[0m\n\u001b[0m\u001b[1;32m    679\u001b[0m         \u001b[0;32mreturn\u001b[0m \u001b[0mself\u001b[0m\u001b[0;34m.\u001b[0m\u001b[0mdecodevalue\u001b[0m\u001b[0;34m(\u001b[0m\u001b[0mvalue\u001b[0m\u001b[0;34m)\u001b[0m\u001b[0;34m\u001b[0m\u001b[0;34m\u001b[0m\u001b[0m\n\u001b[1;32m    680\u001b[0m \u001b[0;34m\u001b[0m\u001b[0m\n",
      "\u001b[0;31mKeyError\u001b[0m: 'BMS_BASE'"
     ]
    }
   ],
   "source": [
    "with open(os.path.join(os.environ['BMS_BASE'], 'cbn', 'Human-2.0', 'Hox-2.0-Hs.jgf')) as f:\n",
    "    graph_jgif_dict = json.load(f)"
   ]
  },
  {
   "cell_type": "code",
   "execution_count": 35,
   "metadata": {},
   "outputs": [
    {
     "ename": "NameError",
     "evalue": "name 'graph_jgif_dict' is not defined",
     "output_type": "error",
     "traceback": [
      "\u001b[0;31m---------------------------------------------------------------------------\u001b[0m",
      "\u001b[0;31mNameError\u001b[0m                                 Traceback (most recent call last)",
      "\u001b[0;32m<timed exec>\u001b[0m in \u001b[0;36m<module>\u001b[0;34m\u001b[0m\n",
      "\u001b[0;31mNameError\u001b[0m: name 'graph_jgif_dict' is not defined"
     ]
    }
   ],
   "source": [
    "%%time\n",
    "graph = pybel.from_cbn_jgif(graph_jgif_dict)"
   ]
  },
  {
   "cell_type": "code",
   "execution_count": 36,
   "metadata": {},
   "outputs": [
    {
     "ename": "AttributeError",
     "evalue": "module 'pybel' has no attribute 'to_bel_lines'",
     "output_type": "error",
     "traceback": [
      "\u001b[0;31m---------------------------------------------------------------------------\u001b[0m",
      "\u001b[0;31mAttributeError\u001b[0m                            Traceback (most recent call last)",
      "\u001b[0;32m<ipython-input-36-e6727ffdf7ce>\u001b[0m in \u001b[0;36m<module>\u001b[0;34m\u001b[0m\n\u001b[0;32m----> 1\u001b[0;31m \u001b[0mbel_lines\u001b[0m \u001b[0;34m=\u001b[0m \u001b[0mpybel\u001b[0m\u001b[0;34m.\u001b[0m\u001b[0mto_bel_lines\u001b[0m\u001b[0;34m(\u001b[0m\u001b[0mgraph\u001b[0m\u001b[0;34m)\u001b[0m\u001b[0;34m\u001b[0m\u001b[0;34m\u001b[0m\u001b[0m\n\u001b[0m\u001b[1;32m      2\u001b[0m \u001b[0;34m\u001b[0m\u001b[0m\n\u001b[1;32m      3\u001b[0m \u001b[0mgraph_reloaded\u001b[0m \u001b[0;34m=\u001b[0m \u001b[0mpybel\u001b[0m\u001b[0;34m.\u001b[0m\u001b[0mfrom_lines\u001b[0m\u001b[0;34m(\u001b[0m\u001b[0mbel_lines\u001b[0m\u001b[0;34m)\u001b[0m\u001b[0;34m\u001b[0m\u001b[0;34m\u001b[0m\u001b[0m\n",
      "\u001b[0;31mAttributeError\u001b[0m: module 'pybel' has no attribute 'to_bel_lines'"
     ]
    }
   ],
   "source": [
    "bel_lines = pybel.to_bel_lines(graph)\n",
    "\n",
    "graph_reloaded = pybel.from_lines(bel_lines)"
   ]
  },
  {
   "cell_type": "code",
   "execution_count": 37,
   "metadata": {},
   "outputs": [
    {
     "ename": "NameError",
     "evalue": "name 'graph_reloaded' is not defined",
     "output_type": "error",
     "traceback": [
      "\u001b[0;31m---------------------------------------------------------------------------\u001b[0m",
      "\u001b[0;31mNameError\u001b[0m                                 Traceback (most recent call last)",
      "\u001b[0;32m<ipython-input-37-08fcc4d94ebd>\u001b[0m in \u001b[0;36m<module>\u001b[0;34m\u001b[0m\n\u001b[0;32m----> 1\u001b[0;31m \u001b[0mto_jupyter\u001b[0m\u001b[0;34m(\u001b[0m\u001b[0mgraph_reloaded\u001b[0m\u001b[0;34m)\u001b[0m\u001b[0;34m\u001b[0m\u001b[0;34m\u001b[0m\u001b[0m\n\u001b[0m",
      "\u001b[0;31mNameError\u001b[0m: name 'graph_reloaded' is not defined"
     ]
    }
   ],
   "source": [
    "to_jupyter(graph_reloaded)"
   ]
  },
  {
   "cell_type": "code",
   "execution_count": null,
   "metadata": {},
   "outputs": [],
   "source": []
  }
 ],
 "metadata": {
  "kernelspec": {
   "display_name": "Python 3",
   "language": "python",
   "name": "python3"
  },
  "language_info": {
   "codemirror_mode": {
    "name": "ipython",
    "version": 3
   },
   "file_extension": ".py",
   "mimetype": "text/x-python",
   "name": "python",
   "nbconvert_exporter": "python",
   "pygments_lexer": "ipython3",
   "version": "3.7.3"
  }
 },
 "nbformat": 4,
 "nbformat_minor": 1
}
